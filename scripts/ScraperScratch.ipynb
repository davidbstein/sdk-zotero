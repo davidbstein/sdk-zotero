{
 "cells": [
  {
   "cell_type": "markdown",
   "metadata": {},
   "source": [
    "# Zotero Cleaner\n",
    "A quick, hacky script that cleans up a Zotero Group or Library.\n",
    "Basically just hardcoded fixes to common problems (e.g., Zotero doesn't scrape Lexis or Westlaw, but I want proper case citations in my Zotero Library)."
   ]
  },
  {
   "cell_type": "code",
   "execution_count": 2,
   "id": "aa85a949",
   "metadata": {},
   "outputs": [
    {
     "name": "stdout",
     "output_type": "stream",
     "text": [
      "/Users/stein/repos/sdk-zotero\n"
     ]
    }
   ],
   "source": [
    "cd .."
   ]
  },
  {
   "cell_type": "code",
   "execution_count": 48,
   "id": "92dcf153",
   "metadata": {},
   "outputs": [],
   "source": [
    "import requests\n",
    "import json\n",
    "from pyzotero import zotero\n",
    "from collections import defaultdict\n",
    "from IPython.display import JSON\n",
    "import re"
   ]
  },
  {
   "cell_type": "code",
   "execution_count": 4,
   "id": "b28396bc",
   "metadata": {},
   "outputs": [],
   "source": [
    "with open(\"/Users/stein/.config/secrets.json\") as f:\n",
    "    secrets = json.load(f)['pyzotero']"
   ]
  },
  {
   "cell_type": "code",
   "execution_count": 20,
   "id": "f2a27350",
   "metadata": {},
   "outputs": [],
   "source": [
    "TS_paper_zot = zotero.Zotero(4495438, \"group\", secrets[\"API_KEY\"])\n",
    "\n",
    "TSZ = TS_paper_zot"
   ]
  },
  {
   "cell_type": "code",
   "execution_count": 65,
   "id": "df2ff3de",
   "metadata": {
    "scrolled": false
   },
   "outputs": [],
   "source": [
    "items = TSZ.items()"
   ]
  },
  {
   "cell_type": "code",
   "execution_count": 66,
   "metadata": {},
   "outputs": [],
   "source": [
    "key2item = {item[\"key\"]: item for item in items}"
   ]
  },
  {
   "cell_type": "code",
   "execution_count": 67,
   "metadata": {},
   "outputs": [],
   "source": [
    "def dicttree(d, level=1):\n",
    "    for k, v in d.items():\n",
    "        if isinstance(v, dict):\n",
    "            print('\\t' * level + str(k))\n",
    "            dicttree(v, level+1)\n",
    "        else:\n",
    "            print('\\t' * level + str(k) + '\\t→ ' + str(v)[:30])\n"
   ]
  },
  {
   "cell_type": "code",
   "execution_count": 68,
   "metadata": {},
   "outputs": [],
   "source": [
    "def fix_lexus_case(zotero_item):\n",
    "    if item['data']['itemType'] in ('attachment', 'case'):\n",
    "        return\n",
    "    if not item['data'].get('url', '').startswith('https://plus.lexis.com/document'):\n",
    "        return\n",
    "    if item['data'].get('title', ' ').split(\":\")[0] in [\"ARTICLE\", \"COMMENT\"]:\n",
    "        return\n",
    "    title_regex=re.compile(r'(?P<casename>.*), (?P<vol>\\d+) (?P<reporter>.*) (?P<page>\\d+)$')\n",
    "    title_match = title_regex.match(zotero_item['data']['title'])\n",
    "    del zotero_item['data']['title']\n",
    "    zotero_item['data']['itemType'] = 'case'\n",
    "    zotero_item['data']['caseName'] = title_match.group('casename')\n",
    "    zotero_item['data']['reporterVolume'] = title_match.group('vol')\n",
    "    zotero_item['data']['firstPage'] = title_match.group('page')\n",
    "    zotero_item['data']['reporter'] = title_match.group('reporter')\n",
    "    TSZ.update_item(zotero_item)"
   ]
  },
  {
   "cell_type": "code",
   "execution_count": 69,
   "metadata": {},
   "outputs": [],
   "source": [
    "for item in items:\n",
    "    fix_lexus_case(item)"
   ]
  }
 ],
 "metadata": {
  "interpreter": {
   "hash": "bb9fea8c45f5cef2f17e2c281b9c9f552a8795103bd07a79c50e6d4027b72550"
  },
  "kernelspec": {
   "display_name": "Python 3.9.6 64-bit ('sdk-zotero-HC5Sz0N_': pipenv)",
   "name": "python3"
  },
  "language_info": {
   "codemirror_mode": {
    "name": "ipython",
    "version": 3
   },
   "file_extension": ".py",
   "mimetype": "text/x-python",
   "name": "python",
   "nbconvert_exporter": "python",
   "pygments_lexer": "ipython3",
   "version": "3.9.6"
  }
 },
 "nbformat": 4,
 "nbformat_minor": 5
}
